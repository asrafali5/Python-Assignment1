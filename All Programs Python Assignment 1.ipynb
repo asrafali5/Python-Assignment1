{
 "cells": [
  {
   "cell_type": "markdown",
   "metadata": {},
   "source": [
    "# 1. Write a function called rectangle that takes two integers m and n as arguments and prints out an m × n box consisting of asterisks."
   ]
  },
  {
   "cell_type": "code",
   "execution_count": 1,
   "metadata": {},
   "outputs": [
    {
     "name": "stdout",
     "output_type": "stream",
     "text": [
      "* * * * * * * * * * * * * * *  \n",
      "* * * * * * * * * * * * * * *  \n",
      "* * * * * * * * * * * * * * *  \n",
      "* * * * * * * * * * * * * * *  \n",
      "* * * * * * * * * * * * * * *  \n",
      "* * * * * * * * * * * * * * *  \n",
      "* * * * * * * * * * * * * * *  \n",
      "* * * * * * * * * * * * * * *  \n"
     ]
    }
   ],
   "source": [
    "def rectangle(m,n): # here, m is rows and n is coloums\n",
    "    for i in range(m):\n",
    "        for j in range(n):\n",
    "            print(\"*\"), #print asterisks\n",
    "        print(\" \")\n",
    "\n",
    "rectangle(8,15)      #Print a rectangle of 8 stars of row and 15 star of column "
   ]
  },
  {
   "cell_type": "markdown",
   "metadata": {},
   "source": [
    "# 2. Write a function called add_excitement that takes a list of strings and adds an exclamation point ( ! ) to the end of each string in the list. The program should modify the original list and not return anything."
   ]
  },
  {
   "cell_type": "code",
   "execution_count": 2,
   "metadata": {},
   "outputs": [
    {
     "name": "stdout",
     "output_type": "stream",
     "text": [
      "Enter a string: I Am Asraf Ali !\n",
      "I Am Asraf Ali \n"
     ]
    }
   ],
   "source": [
    "def add_excitement():\n",
    "    sign = \"!\"\n",
    "    s = raw_input(\"Enter a string: \") #Takes string input from the user\n",
    "\n",
    "    no_sign = \"\" # remove sign from the string\n",
    "    for string in s:\n",
    "        if string not in sign:\n",
    "            no_sign = no_sign + string\n",
    "\n",
    "    print(no_sign) # output of the string with no_sign \n",
    "\n",
    "add_excitement()"
   ]
  },
  {
   "cell_type": "markdown",
   "metadata": {},
   "source": [
    "# 3. Write the same function except that it should not modify the original list and should instead return a new list."
   ]
  },
  {
   "cell_type": "code",
   "execution_count": 3,
   "metadata": {},
   "outputs": [
    {
     "name": "stdout",
     "output_type": "stream",
     "text": [
      "Enter String: Asraf Ali\n",
      "\n",
      "New String : \n"
     ]
    },
    {
     "data": {
      "text/plain": [
       "'Asraf Ali'"
      ]
     },
     "execution_count": 3,
     "metadata": {},
     "output_type": "execute_result"
    }
   ],
   "source": [
    "def add_exitement():\n",
    "    \n",
    "    s = raw_input(\"Enter String: \") # Take a string as input from the user\n",
    "   \n",
    "    print (\"\\nNew String : \")\n",
    "    return s # return the new string\n",
    "\n",
    "add_exitement() # calling function"
   ]
  },
  {
   "cell_type": "markdown",
   "metadata": {},
   "source": [
    "# 4. The digital root of a number n is obtained as follows: Add up the digits n to get a new number. Add up the digits of that to get another new number. Keep doing this until you get a number that has only one digit. That number is the digital root. For example, if n = 45893 , we add up the digits to get 4 + 5 + 8 + 9 + 3 = 29 . We then add up the digits of 29 to get 2 + 9 = 11 . We then add up the digits of 11 to get 1 + 1 = 2 . Since 2 has only one digit, 2 is our digital root. Write a function that returns the digital root of an integer n . [Note: there is a shortcut, where the digital root is equal to n mod 9, but do not use that here.]"
   ]
  },
  {
   "cell_type": "code",
   "execution_count": 4,
   "metadata": {},
   "outputs": [
    {
     "name": "stdout",
     "output_type": "stream",
     "text": [
      "Enter an integer: 12345\n",
      "Digital Root =  6\n"
     ]
    }
   ],
   "source": [
    "def digital_root_of_n():\n",
    "    \n",
    "    n = input(\"Enter an integer: \") #Taking integer input from user\n",
    "    sum = 0 \n",
    "    \n",
    "    while(n > 0 or sum > 9):   \n",
    "        if(n == 0): # when n = 0, sum = 0\n",
    "            n = sum\n",
    "            sum = 0\n",
    "        else:\n",
    "            sum = sum + (n % 10)\n",
    "            n = n / 10\n",
    "    \n",
    "    print \"Digital Root = \", sum\n",
    "\n",
    "digital_root_of_n() # calling function"
   ]
  },
  {
   "cell_type": "markdown",
   "metadata": {},
   "source": [
    "# 5. Write a function that takes an integer n and returns a random integer with exactly n digits. For instance, if n is 3, then 125 and 593 would be valid return values, but 093 would not because that is really 93, which is a two-digit number."
   ]
  },
  {
   "cell_type": "code",
   "execution_count": 5,
   "metadata": {},
   "outputs": [
    {
     "data": {
      "text/plain": [
       "762"
      ]
     },
     "execution_count": 5,
     "metadata": {},
     "output_type": "execute_result"
    }
   ],
   "source": [
    "from random import randint # library for generate random number\n",
    "\n",
    "def randomNumberGen(n):\n",
    "    start_range = 10**(n-1)\n",
    "    finish_range = (10**n)-1\n",
    "    return randint(start_range,finish_range)\n",
    "\n",
    "randomNumberGen(3)"
   ]
  },
  {
   "cell_type": "markdown",
   "metadata": {},
   "source": [
    "# 6. Write a function called matches that takes two strings as arguments and returns how many matches there are between the strings. A match is where the two strings have the same character at the same index. For instance, ' python ' and ' path ' match in the first, third, and fourth characters, so the function should return 3."
   ]
  },
  {
   "cell_type": "code",
   "execution_count": 6,
   "metadata": {},
   "outputs": [
    {
     "name": "stdout",
     "output_type": "stream",
     "text": [
      "Matched Characters:  1\n"
     ]
    }
   ],
   "source": [
    "def matches(s1,s2):\n",
    "\n",
    "    temp = len(s1)\n",
    "    count = 0\n",
    "    if(len(s1) < len(s2)):\n",
    "        temp = len(s1)\n",
    "    for x in range(temp):\n",
    "        if s1[x] == s2[x]:\n",
    "            count = count + 1\n",
    "    return count;\n",
    "\n",
    "s1 = (\"cat\")\n",
    "s2 = (\"pet\")\n",
    "\n",
    "print \"Matched Characters: \",matches(s1, s2)"
   ]
  },
  {
   "cell_type": "markdown",
   "metadata": {},
   "source": [
    "# 7. Write a function called primes that is given a number n and returns a list of the first n primes. Let the default value of n be 100."
   ]
  },
  {
   "cell_type": "code",
   "execution_count": 7,
   "metadata": {},
   "outputs": [
    {
     "name": "stdout",
     "output_type": "stream",
     "text": [
      "List of 100 Prime Numbers:  [2, 3, 5, 7, 11, 13, 17, 19, 23, 29, 31, 37, 41, 43, 47, 53, 59, 61, 67, 71, 73, 79, 83, 89, 97, 101, 103, 107, 109, 113, 127, 131, 137, 139, 149, 151, 157, 163, 167, 173, 179, 181, 191, 193, 197, 199, 211, 223, 227, 229, 233, 239, 241, 251, 257, 263, 269, 271, 277, 281, 283, 293, 307, 311, 313, 317, 331, 337, 347, 349, 353, 359, 367, 373, 379, 383, 389, 397, 401, 409, 419, 421, 431, 433, 439, 443, 449, 457, 461, 463, 467, 479, 487, 491, 499, 503, 509, 521, 523, 541]\n"
     ]
    }
   ],
   "source": [
    "def prime_num(n):\n",
    "    while True:\n",
    "        n = n + 1 \n",
    "        for i in range(2, n): # searches for prime number\n",
    "            if n % i == 0: # checks if n is prime number or not\n",
    "                break\n",
    "        else:\n",
    "            return n # returns prime number\n",
    "        \n",
    "def primes(N):\n",
    "    n, count = 1,1\n",
    "    while count <= N: # runs loop till n\n",
    "        n = prime_num(n) \n",
    "        yield n # returns a generator\n",
    "        count = count + 1 # count is increased by 1\n",
    "\n",
    "N=100\n",
    "print 'List of 100 Prime Numbers: ',\n",
    "l = [x for x in primes(N)] \n",
    "print l, # prints all prime numbers of 100"
   ]
  },
  {
   "cell_type": "markdown",
   "metadata": {},
   "source": [
    "# 8. Recall that if s is a string, then s.find( ' a ' ) will find the location of the first a in s . The problem is that it does not find the location of every a. Write a function called findall that given a string and a single character, returns a list containing all of the locations of that character in the string. It should return an empty list if there are no occurrences of the character in the string."
   ]
  },
  {
   "cell_type": "code",
   "execution_count": 8,
   "metadata": {},
   "outputs": [
    {
     "name": "stdout",
     "output_type": "stream",
     "text": [
      "Character Locations =  3 9\n"
     ]
    }
   ],
   "source": [
    "def findall(): # function name -findall()\n",
    "    s = 'I Love Programming' \n",
    "    location_of_the_character = -1\n",
    "    print 'Character Locations = ',\n",
    "    \n",
    "    while True:\n",
    "        location_of_the_character = s.find('o', location_of_the_character + 1) # find() will search the location of o \n",
    "        if location_of_the_character == -1: \n",
    "            break    # exits from the loop\n",
    "        else:                   \n",
    "            yield location_of_the_character # return a generator.\n",
    "            \n",
    "for location_of_the_character in findall():\n",
    "    print (location_of_the_character), # gives the output of location"
   ]
  },
  {
   "cell_type": "code",
   "execution_count": null,
   "metadata": {},
   "outputs": [],
   "source": []
  }
 ],
 "metadata": {
  "kernelspec": {
   "display_name": "Python 2",
   "language": "python",
   "name": "python2"
  },
  "language_info": {
   "codemirror_mode": {
    "name": "ipython",
    "version": 2
   },
   "file_extension": ".py",
   "mimetype": "text/x-python",
   "name": "python",
   "nbconvert_exporter": "python",
   "pygments_lexer": "ipython2",
   "version": "2.7.15"
  }
 },
 "nbformat": 4,
 "nbformat_minor": 2
}
