{
 "cells": [
  {
   "cell_type": "markdown",
   "metadata": {},
   "source": [
    "# 1.\tWrite a function called rectangle that takes two integers m and n as arguments and prints out an m × n box consisting of asterisks."
   ]
  },
  {
   "cell_type": "code",
   "execution_count": 3,
   "metadata": {},
   "outputs": [
    {
     "name": "stdout",
     "output_type": "stream",
     "text": [
      "* * * * * * * * * * * * * * *  \n",
      "* * * * * * * * * * * * * * *  \n",
      "* * * * * * * * * * * * * * *  \n",
      "* * * * * * * * * * * * * * *  \n",
      "* * * * * * * * * * * * * * *  \n",
      "* * * * * * * * * * * * * * *  \n",
      "* * * * * * * * * * * * * * *  \n",
      "* * * * * * * * * * * * * * *  \n"
     ]
    }
   ],
   "source": [
    "def rectangle(m,n): # here, m is rows and n is coloums\n",
    "    for i in range(m):\n",
    "        for j in range(n):\n",
    "            print(\"*\"), #print asterisks\n",
    "        print(\" \")\n",
    "\n",
    "rectangle(8,15)      #Print a rectangle of 8 stars of row and 15 star of column "
   ]
  },
  {
   "cell_type": "code",
   "execution_count": null,
   "metadata": {},
   "outputs": [],
   "source": []
  }
 ],
 "metadata": {
  "kernelspec": {
   "display_name": "Python 2",
   "language": "python",
   "name": "python2"
  },
  "language_info": {
   "codemirror_mode": {
    "name": "ipython",
    "version": 2
   },
   "file_extension": ".py",
   "mimetype": "text/x-python",
   "name": "python",
   "nbconvert_exporter": "python",
   "pygments_lexer": "ipython2",
   "version": "2.7.15"
  }
 },
 "nbformat": 4,
 "nbformat_minor": 2
}
