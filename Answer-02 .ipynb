{
 "cells": [
  {
   "cell_type": "markdown",
   "metadata": {},
   "source": [
    "# 2.\tWrite a function called add_excitement that takes a list of strings and adds an exclamation point ( ! ) to the end of each string in the list. The program should modify the original list and not return anything."
   ]
  },
  {
   "cell_type": "code",
   "execution_count": 3,
   "metadata": {},
   "outputs": [
    {
     "name": "stdout",
     "output_type": "stream",
     "text": [
      "Enter a string: Hi I Am Asraf Ali !\n",
      "Hi I Am Asraf Ali \n"
     ]
    }
   ],
   "source": [
    "def add_excitement():\n",
    "    sign = \"!\"\n",
    "    s = raw_input(\"Enter a string: \") #Takes string input from the user\n",
    "\n",
    "    no_sign = \"\" # remove sign from the string\n",
    "    for string in s:\n",
    "        if string not in sign:\n",
    "            no_sign = no_sign + string\n",
    "\n",
    "    print(no_sign) # output of the string with no_sign \n",
    "\n",
    "add_excitement()"
   ]
  },
  {
   "cell_type": "code",
   "execution_count": null,
   "metadata": {},
   "outputs": [],
   "source": []
  }
 ],
 "metadata": {
  "kernelspec": {
   "display_name": "Python 2",
   "language": "python",
   "name": "python2"
  },
  "language_info": {
   "codemirror_mode": {
    "name": "ipython",
    "version": 2
   },
   "file_extension": ".py",
   "mimetype": "text/x-python",
   "name": "python",
   "nbconvert_exporter": "python",
   "pygments_lexer": "ipython2",
   "version": "2.7.15"
  }
 },
 "nbformat": 4,
 "nbformat_minor": 2
}
