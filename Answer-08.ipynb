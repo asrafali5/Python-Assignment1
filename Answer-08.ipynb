{
 "cells": [
  {
   "cell_type": "markdown",
   "metadata": {},
   "source": [
    "# 8.\tRecall that if s is a string, then s.find( ' a ' ) will find the location of the first a in s . The problem is that it does not find the location of every a. Write a function called findall that given a string and a single character, returns a list containing all of the locations of that character in the string. It should return an empty list if there are no occurrences of the character in the string."
   ]
  },
  {
   "cell_type": "code",
   "execution_count": 24,
   "metadata": {},
   "outputs": [
    {
     "name": "stdout",
     "output_type": "stream",
     "text": [
      "Character Locations =  3 9\n"
     ]
    }
   ],
   "source": [
    "def findall(): # function name -findall()\n",
    "    s = 'I Love Programming' \n",
    "    location_of_the_character = -1\n",
    "    print 'Character Locations = ',\n",
    "    \n",
    "    while True:\n",
    "        location_of_the_character = s.find('o', location_of_the_character + 1) # find() will search the location of o \n",
    "        if location_of_the_character == -1: \n",
    "            break    # exits from the loop\n",
    "        else:                   \n",
    "            yield location_of_the_character # return a generator.\n",
    "            \n",
    "for location_of_the_character in findall():\n",
    "    print (location_of_the_character), # gives the output of location"
   ]
  },
  {
   "cell_type": "code",
   "execution_count": null,
   "metadata": {},
   "outputs": [],
   "source": []
  },
  {
   "cell_type": "code",
   "execution_count": null,
   "metadata": {},
   "outputs": [],
   "source": []
  }
 ],
 "metadata": {
  "kernelspec": {
   "display_name": "Python 2",
   "language": "python",
   "name": "python2"
  },
  "language_info": {
   "codemirror_mode": {
    "name": "ipython",
    "version": 2
   },
   "file_extension": ".py",
   "mimetype": "text/x-python",
   "name": "python",
   "nbconvert_exporter": "python",
   "pygments_lexer": "ipython2",
   "version": "2.7.15"
  }
 },
 "nbformat": 4,
 "nbformat_minor": 2
}
