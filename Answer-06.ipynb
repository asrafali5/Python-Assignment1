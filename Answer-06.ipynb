{
 "cells": [
  {
   "cell_type": "markdown",
   "metadata": {},
   "source": [
    "# 6.\tWrite a function called matches that takes two strings as arguments and returns how many matches there are between the strings. A match is where the two strings have the same character at the same index. For instance, ' python ' and ' path ' match in the first, third, and fourth characters, so the function should return 3."
   ]
  },
  {
   "cell_type": "code",
   "execution_count": 12,
   "metadata": {},
   "outputs": [
    {
     "name": "stdout",
     "output_type": "stream",
     "text": [
      "Matched Characters:  1\n"
     ]
    }
   ],
   "source": [
    "def matches(s1,s2):\n",
    "\n",
    "    temp = len(s1)\n",
    "    count = 0\n",
    "    if(len(s1) < len(s2)):\n",
    "        temp = len(s1)\n",
    "    for x in range(temp):\n",
    "        if s1[x] == s2[x]:\n",
    "            count = count + 1\n",
    "    return count;\n",
    "\n",
    "s1 = (\"cat\")\n",
    "s2 = (\"pet\")\n",
    "\n",
    "print \"Matched Characters: \",matches(s1, s2)"
   ]
  },
  {
   "cell_type": "code",
   "execution_count": null,
   "metadata": {},
   "outputs": [],
   "source": []
  }
 ],
 "metadata": {
  "kernelspec": {
   "display_name": "Python 2",
   "language": "python",
   "name": "python2"
  },
  "language_info": {
   "codemirror_mode": {
    "name": "ipython",
    "version": 2
   },
   "file_extension": ".py",
   "mimetype": "text/x-python",
   "name": "python",
   "nbconvert_exporter": "python",
   "pygments_lexer": "ipython2",
   "version": "2.7.15"
  }
 },
 "nbformat": 4,
 "nbformat_minor": 2
}
